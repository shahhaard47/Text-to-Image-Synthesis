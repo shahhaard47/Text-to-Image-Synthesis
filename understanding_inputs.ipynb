{
 "cells": [
  {
   "cell_type": "code",
   "execution_count": 1,
   "metadata": {
    "tags": []
   },
   "outputs": [
    {
     "output_type": "stream",
     "name": "stdout",
     "text": "cwd /Users/haardshah/development/gatech/cvnlp_research/Text-to-Image-Synthesis\n"
    }
   ],
   "source": [
    "import h5py\n",
    "import os\n",
    "\n",
    "print(\"cwd\", os.getcwd())"
   ]
  },
  {
   "cell_type": "code",
   "execution_count": 14,
   "metadata": {},
   "outputs": [],
   "source": [
    "import numpy as np"
   ]
  },
  {
   "cell_type": "code",
   "execution_count": 29,
   "metadata": {},
   "outputs": [],
   "source": [
    "import os\n",
    "import io\n",
    "from torch.utils.data import Dataset, DataLoader\n",
    "import h5py\n",
    "import numpy as np\n",
    "import pdb\n",
    "from PIL import Image\n",
    "import torch\n",
    "from torch.autograd import Variable\n",
    "import pdb\n",
    "import torch.nn.functional as F"
   ]
  },
  {
   "cell_type": "code",
   "execution_count": 4,
   "metadata": {},
   "outputs": [],
   "source": [
    "birds_hd5_path = 'Birds dataset/birds.hdf5'\n",
    "data = h5py.File(birds_hd5_path, mode='r')"
   ]
  },
  {
   "cell_type": "code",
   "execution_count": 5,
   "metadata": {},
   "outputs": [
    {
     "output_type": "execute_result",
     "data": {
      "text/plain": "<KeysViewHDF5 ['test', 'train', 'valid']>"
     },
     "metadata": {},
     "execution_count": 5
    }
   ],
   "source": [
    "data.keys()"
   ]
  },
  {
   "cell_type": "code",
   "execution_count": 8,
   "metadata": {},
   "outputs": [],
   "source": [
    "first_name = [str(k) for k in data['train'].keys()][0]"
   ]
  },
  {
   "cell_type": "code",
   "execution_count": 9,
   "metadata": {},
   "outputs": [
    {
     "output_type": "execute_result",
     "data": {
      "text/plain": "'American_Goldfinch_0001_32306_0'"
     },
     "metadata": {},
     "execution_count": 9
    }
   ],
   "source": [
    "first_name"
   ]
  },
  {
   "cell_type": "code",
   "execution_count": 10,
   "metadata": {},
   "outputs": [],
   "source": [
    "sample = data['train'][first_name]"
   ]
  },
  {
   "cell_type": "code",
   "execution_count": 11,
   "metadata": {},
   "outputs": [
    {
     "output_type": "execute_result",
     "data": {
      "text/plain": "<KeysViewHDF5 ['class', 'embeddings', 'img', 'name', 'txt']>"
     },
     "metadata": {},
     "execution_count": 11
    }
   ],
   "source": [
    "sample.keys()"
   ]
  },
  {
   "cell_type": "markdown",
   "metadata": {},
   "source": [
    "## Caption (txt), name, and class"
   ]
  },
  {
   "cell_type": "code",
   "execution_count": 47,
   "metadata": {},
   "outputs": [
    {
     "output_type": "execute_result",
     "data": {
      "text/plain": "array('American_Goldfinch_0001_32306', dtype='<U29')"
     },
     "metadata": {},
     "execution_count": 47
    }
   ],
   "source": [
    "# sample['name']\n",
    "np.array(sample['name']).astype(str) # useless"
   ]
  },
  {
   "cell_type": "code",
   "execution_count": 15,
   "metadata": {},
   "outputs": [
    {
     "output_type": "execute_result",
     "data": {
      "text/plain": "array('this bird is yellow with black and has a long, pointy beak.\\n',\n      dtype='<U60')"
     },
     "metadata": {},
     "execution_count": 15
    }
   ],
   "source": [
    "# sample['txt']\n",
    "np.array(sample['txt']).astype(str)"
   ]
  },
  {
   "cell_type": "code",
   "execution_count": 25,
   "metadata": {},
   "outputs": [
    {
     "output_type": "execute_result",
     "data": {
      "text/plain": "array('047.American_Goldfinch', dtype='<U22')"
     },
     "metadata": {},
     "execution_count": 25
    }
   ],
   "source": [
    "# sample['class']\n",
    "np.array(sample['class']).astype(str)"
   ]
  },
  {
   "cell_type": "markdown",
   "metadata": {},
   "source": [
    "## Image"
   ]
  },
  {
   "cell_type": "code",
   "execution_count": 36,
   "metadata": {},
   "outputs": [
    {
     "output_type": "execute_result",
     "data": {
      "text/plain": "<PIL.Image.Image image mode=RGB size=64x64 at 0x7FEEC756DA20>",
      "image/png": "[encoded data removed]"
     },
     "metadata": {},
     "execution_count": 36
    }
   ],
   "source": [
    "img = bytes(np.array(sample['img']))\n",
    "img = Image.open(io.BytesIO(img))\n",
    "# img # to view image\n",
    "resized_img = img.resize((64,64))\n",
    "resized_img # smaller image"
   ]
  },
  {
   "cell_type": "markdown",
   "metadata": {},
   "source": [
    "### Validate image (from `txt2image_dataset.py`)\n"
   ]
  },
  {
   "cell_type": "code",
   "execution_count": 42,
   "metadata": {},
   "outputs": [
    {
     "output_type": "execute_result",
     "data": {
      "text/plain": "(64, 64, 3)"
     },
     "metadata": {},
     "execution_count": 42
    }
   ],
   "source": [
    "arr_img = np.array(resized_img, dtype=float)\n",
    "arr_img.shape"
   ]
  },
  {
   "cell_type": "code",
   "execution_count": 43,
   "metadata": {},
   "outputs": [
    {
     "output_type": "execute_result",
     "data": {
      "text/plain": "(3, 64, 64)"
     },
     "metadata": {},
     "execution_count": 43
    }
   ],
   "source": [
    "arr_img.transpose(2, 0, 1).shape"
   ]
  },
  {
   "cell_type": "code",
   "execution_count": 44,
   "metadata": {},
   "outputs": [],
   "source": [
    "validated_img = arr_img.transpose(2, 0, 1)"
   ]
  },
  {
   "cell_type": "markdown",
   "metadata": {},
   "source": [
    "## Embeddings"
   ]
  },
  {
   "cell_type": "code",
   "execution_count": 48,
   "metadata": {},
   "outputs": [
    {
     "output_type": "execute_result",
     "data": {
      "text/plain": "<HDF5 dataset \"embeddings\": shape (1024,), type \"<f4\">"
     },
     "metadata": {},
     "execution_count": 48
    }
   ],
   "source": [
    "sample['embeddings']"
   ]
  },
  {
   "cell_type": "code",
   "execution_count": 56,
   "metadata": {
    "tags": []
   },
   "outputs": [
    {
     "output_type": "stream",
     "name": "stdout",
     "text": "[-0.10290982  0.12675285  0.09818752 ... -0.05504847 -0.02622498\n -0.03597182]\n"
    }
   ],
   "source": [
    "embed = np.array(sample['embeddings'], dtype=float)\n",
    "print(embed)"
   ]
  },
  {
   "cell_type": "code",
   "execution_count": null,
   "metadata": {},
   "outputs": [],
   "source": []
  }
 ],
 "metadata": {
  "language_info": {
   "codemirror_mode": {
    "name": "ipython",
    "version": 3
   },
   "file_extension": ".py",
   "mimetype": "text/x-python",
   "name": "python",
   "nbconvert_exporter": "python",
   "pygments_lexer": "ipython3",
   "version": "3.6.10-final"
  },
  "orig_nbformat": 2,
  "kernelspec": {
   "name": "python_defaultSpec_1594990703813",
   "display_name": "Python 3.6.10 64-bit ('texttoimage': conda)"
  }
 },
 "nbformat": 4,
 "nbformat_minor": 2
}